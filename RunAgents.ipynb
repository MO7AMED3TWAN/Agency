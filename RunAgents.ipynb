{
 "cells": [
  {
   "cell_type": "code",
   "execution_count": null,
   "id": "61d19428",
   "metadata": {},
   "outputs": [],
   "source": [
    "import agentops\n",
    "\n",
    "# Initialize agentops monitoring\n",
    "agentops.init(\n",
    "    api_key=\"your_api_key_here\",  # Replace with your actual API key\n",
    "    skip_auto_end_session=True\n",
    ")"
   ]
  },
  {
   "cell_type": "code",
   "execution_count": null,
   "id": "bdcd932a",
   "metadata": {},
   "outputs": [],
   "source": [
    "# Updated imports for the new structure\n",
    "from src.agents.Researcher import Researcher\n",
    "from src.agents.Extractor import Extractor\n",
    "from src.agents.ContentCreator import ContentCreator\n",
    "from src.agents.SEOValidator import SEOValidator\n",
    "from src.agents.ImageGenerator import ImageGenerator\n",
    "from src.tools.GoogleSearchTool import GoogleSearchTool\n",
    "from src.tools.BeautifulSoupTool import BeautifulSoupTool\n",
    "from src.tools.StableDiffusionTool import StableDiffusionTool"
   ]
  },
  {
   "cell_type": "code",
   "execution_count": null,
   "id": "c817607a",
   "metadata": {},
   "outputs": [],
   "source": [
    "# Import APIs configuration\n",
    "from apis import APIS"
   ]
  },
  {
   "cell_type": "code",
   "execution_count": null,
   "id": "2d770a9f",
   "metadata": {},
   "outputs": [],
   "source": [
    "# Researcher Agent\n",
    "\n",
    "# Initialize and run the Researcher agent\n",
    "researcher = Researcher(llm=basic_llm)\n",
    "research_task = researcher.create_task(\n",
    "    keywords=['AI', 'future technology'],\n",
    "    output_file='./Outputs/research_results.json'\n",
    ")\n",
    "research_task.run()\n",
    "\n",
    "# Expected Output: A JSON file containing URLs and metadata for the search results."
   ]
  },
  {
   "cell_type": "code",
   "execution_count": null,
   "id": "49200fa6",
   "metadata": {},
   "outputs": [],
   "source": [
    "# Extractor Agent\n",
    "\n",
    "# Initialize and run the Extractor agent\n",
    "extractor = Extractor(llm=basic_llm)\n",
    "extract_task = extractor.create_task(\n",
    "    urls=['https://example.com/article1', 'https://example.com/article2'],\n",
    "    output_file='./Outputs/extracted_data.json'\n",
    ")\n",
    "extract_task.run()\n",
    "\n",
    "# Expected Output: A JSON file containing extracted summaries and keywords."
   ]
  },
  {
   "cell_type": "code",
   "execution_count": null,
   "id": "d0e98ac0",
   "metadata": {},
   "outputs": [],
   "source": [
    "# Content Creator Agent\n",
    "\n",
    "# Initialize and run the Content Creator agent\n",
    "content_creator = ContentCreator(llm=basic_llm)\n",
    "content_task = content_creator.create_task(\n",
    "    summaries=['Summary 1', 'Summary 2'],\n",
    "    output_file='./Outputs/created_content.txt'\n",
    ")\n",
    "content_task.run()\n",
    "\n",
    "# Expected Output: A text file containing the generated content."
   ]
  },
  {
   "cell_type": "code",
   "execution_count": null,
   "id": "4e0bdb05",
   "metadata": {},
   "outputs": [],
   "source": [
    "# SEO Validator Agent\n",
    "\n",
    "# Initialize and run the SEO Validator agent\n",
    "seo_validator = SEOValidator(llm=basic_llm)\n",
    "seo_task = seo_validator.create_task(\n",
    "    content='Sample content for SEO validation',\n",
    "    output_file='./Outputs/seo_validation.json'\n",
    ")\n",
    "seo_task.run()\n",
    "\n",
    "# Expected Output: A JSON file containing the SEO analysis report."
   ]
  },
  {
   "cell_type": "code",
   "execution_count": null,
   "id": "d8e92c47",
   "metadata": {},
   "outputs": [],
   "source": [
    "# Initialize StableDiffusionTool for Image Generator\n",
    "image_tool = StableDiffusionTool()\n",
    "generated_image = image_tool.generate_image(prompt=\"A futuristic cityscape with AI elements\")\n",
    "print(\"Image generated successfully.\")"
   ]
  }
 ],
 "metadata": {
  "kernelspec": {
   "display_name": "base",
   "language": "python",
   "name": "python3"
  },
  "language_info": {
   "codemirror_mode": {
    "name": "ipython",
    "version": 3
   },
   "file_extension": ".py",
   "mimetype": "text/x-python",
   "name": "python",
   "nbconvert_exporter": "python",
   "pygments_lexer": "ipython3",
   "version": "3.12.3"
  }
 },
 "nbformat": 4,
 "nbformat_minor": 5
}
