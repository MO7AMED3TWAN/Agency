{
 "cells": [
  {
   "cell_type": "code",
   "execution_count": null,
   "id": "61d19428",
   "metadata": {},
   "outputs": [],
   "source": [
    "import agentops\n",
    "\n",
    "# Initialize agentops monitoring\n",
    "agentops.init(\n",
    "    api_key=\"your_api_key_here\",  # Replace with your actual API key\n",
    "    skip_auto_end_session=True\n",
    ")"
   ]
  },
  {
   "cell_type": "code",
   "execution_count": 3,
   "id": "be7d9505",
   "metadata": {},
   "outputs": [
    {
     "ename": "ModuleNotFoundError",
     "evalue": "No module named 'transformers'",
     "output_type": "error",
     "traceback": [
      "\u001b[31m---------------------------------------------------------------------------\u001b[39m",
      "\u001b[31mModuleNotFoundError\u001b[39m                       Traceback (most recent call last)",
      "\u001b[36mCell\u001b[39m\u001b[36m \u001b[39m\u001b[32mIn[3]\u001b[39m\u001b[32m, line 6\u001b[39m\n\u001b[32m      4\u001b[39m \u001b[38;5;28;01mfrom\u001b[39;00m\u001b[38;5;250m \u001b[39m\u001b[34;01mTools\u001b[39;00m\u001b[34;01m.\u001b[39;00m\u001b[34;01mBeautifulSoupTool\u001b[39;00m\u001b[38;5;250m \u001b[39m\u001b[38;5;28;01mimport\u001b[39;00m BeautifulSoupTool\n\u001b[32m      5\u001b[39m \u001b[38;5;66;03m# from Tools.ReadabilityTool import ReadabilityTool\u001b[39;00m\n\u001b[32m----> \u001b[39m\u001b[32m6\u001b[39m \u001b[38;5;28;01mfrom\u001b[39;00m\u001b[38;5;250m \u001b[39m\u001b[34;01mTools\u001b[39;00m\u001b[34;01m.\u001b[39;00m\u001b[34;01mStableDiffusionTool\u001b[39;00m\u001b[38;5;250m \u001b[39m\u001b[38;5;28;01mimport\u001b[39;00m StableDiffusionTool\n",
      "\u001b[36mFile \u001b[39m\u001b[32m/workspaces/Agency/Tools/StableDiffusionTool.py:2\u001b[39m\n\u001b[32m      1\u001b[39m \u001b[38;5;66;03m# Stable Diffusion Tool\u001b[39;00m\n\u001b[32m----> \u001b[39m\u001b[32m2\u001b[39m \u001b[38;5;28;01mfrom\u001b[39;00m\u001b[38;5;250m \u001b[39m\u001b[34;01mtransformers\u001b[39;00m\u001b[38;5;250m \u001b[39m\u001b[38;5;28;01mimport\u001b[39;00m pipeline\n\u001b[32m      4\u001b[39m \u001b[38;5;28;01mclass\u001b[39;00m\u001b[38;5;250m \u001b[39m\u001b[34;01mStableDiffusionTool\u001b[39;00m:\n\u001b[32m      5\u001b[39m     \u001b[38;5;28;01mdef\u001b[39;00m\u001b[38;5;250m \u001b[39m\u001b[34m__init__\u001b[39m(\u001b[38;5;28mself\u001b[39m):\n",
      "\u001b[31mModuleNotFoundError\u001b[39m: No module named 'transformers'"
     ]
    }
   ],
   "source": [
    "# Import tools\n",
    "from Tools.GoogleSearchTool import GoogleSearchTool\n",
    "from Tools.SerperTool import SerperTool\n",
    "from Tools.BeautifulSoupTool import BeautifulSoupTool\n",
    "# from Tools.ReadabilityTool import ReadabilityTool\n",
    "from Tools.StableDiffusionTool import StableDiffusionTool"
   ]
  },
  {
   "cell_type": "code",
   "execution_count": 4,
   "id": "5bc204ec",
   "metadata": {},
   "outputs": [
    {
     "name": "stdout",
     "output_type": "stream",
     "text": [
      "{'error': {'code': 400, 'message': 'API key not valid. Please pass a valid API key.', 'errors': [{'message': 'API key not valid. Please pass a valid API key.', 'domain': 'global', 'reason': 'badRequest'}], 'status': 'INVALID_ARGUMENT', 'details': [{'@type': 'type.googleapis.com/google.rpc.ErrorInfo', 'reason': 'API_KEY_INVALID', 'domain': 'googleapis.com', 'metadata': {'service': 'customsearch.googleapis.com'}}, {'@type': 'type.googleapis.com/google.rpc.LocalizedMessage', 'locale': 'en-US', 'message': 'API key not valid. Please pass a valid API key.'}]}}\n"
     ]
    }
   ],
   "source": [
    "# Initialize GoogleSearchTool for Researcher\n",
    "search_tool = GoogleSearchTool()\n",
    "research_results = search_tool.search(query=\"AI future technology\")\n",
    "print(research_results)"
   ]
  },
  {
   "cell_type": "code",
   "execution_count": null,
   "id": "1f37a9eb",
   "metadata": {},
   "outputs": [],
   "source": [
    "# Initialize BeautifulSoupTool for Extractor\n",
    "html_content = \"<html><body><h1>Sample Content</h1></body></html>\"\n",
    "extractor_tool = BeautifulSoupTool()\n",
    "extracted_text = extractor_tool.extract_content(html_content)\n",
    "print(extracted_text)"
   ]
  },
  {
   "cell_type": "code",
   "execution_count": null,
   "id": "04d1b167",
   "metadata": {},
   "outputs": [],
   "source": [
    "# Initialize StableDiffusionTool for Image Generator\n",
    "image_tool = StableDiffusionTool()\n",
    "generated_image = image_tool.generate_image(prompt=\"A futuristic cityscape with AI elements\")\n",
    "print(\"Image generated successfully.\")"
   ]
  }
 ],
 "metadata": {
  "kernelspec": {
   "display_name": "base",
   "language": "python",
   "name": "python3"
  },
  "language_info": {
   "codemirror_mode": {
    "name": "ipython",
    "version": 3
   },
   "file_extension": ".py",
   "mimetype": "text/x-python",
   "name": "python",
   "nbconvert_exporter": "python",
   "pygments_lexer": "ipython3",
   "version": "3.12.3"
  }
 },
 "nbformat": 4,
 "nbformat_minor": 5
}
